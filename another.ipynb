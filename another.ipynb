{
 "cells": [
  {
   "cell_type": "code",
   "execution_count": 1,
   "id": "9fb001a4",
   "metadata": {},
   "outputs": [],
   "source": [
    "from chromadb.utils import embedding_functions\n",
    "from dotenv import dotenv_values\n",
    "config = dotenv_values(\".env\")\n",
    "with open(\"data/EON.txt\", \"r\", encoding=\"utf-8\") as file:\n",
    "    text = file.read()"
   ]
  },
  {
   "cell_type": "code",
   "execution_count": 1,
   "id": "dc70e59e",
   "metadata": {},
   "outputs": [],
   "source": [
    "from chunking_evaluation.chunking import FixedTokenChunker"
   ]
  },
  {
   "cell_type": "code",
   "execution_count": 2,
   "id": "0c6e9101",
   "metadata": {},
   "outputs": [],
   "source": [
    "chunker_fixed = FixedTokenChunker(chunk_size=100, chunk_overlap=20)"
   ]
  },
  {
   "cell_type": "code",
   "execution_count": 3,
   "id": "8a97360f",
   "metadata": {},
   "outputs": [
    {
     "ename": "NameError",
     "evalue": "name 'chunker' is not defined",
     "output_type": "error",
     "traceback": [
      "\u001b[31m---------------------------------------------------------------------------\u001b[39m",
      "\u001b[31mNameError\u001b[39m                                 Traceback (most recent call last)",
      "\u001b[36mCell\u001b[39m\u001b[36m \u001b[39m\u001b[32mIn[3]\u001b[39m\u001b[32m, line 1\u001b[39m\n\u001b[32m----> \u001b[39m\u001b[32m1\u001b[39m tkns = \u001b[43mchunker\u001b[49m._tokenizer.encode(text)\n",
      "\u001b[31mNameError\u001b[39m: name 'chunker' is not defined"
     ]
    }
   ],
   "source": [
    "tkns = chunker._tokenizer.encode(text)"
   ]
  },
  {
   "cell_type": "code",
   "execution_count": null,
   "id": "51d6ccac",
   "metadata": {},
   "outputs": [],
   "source": [
    "chunks = chunker.split_text(text)"
   ]
  },
  {
   "cell_type": "code",
   "execution_count": 5,
   "id": "19e5ce00",
   "metadata": {},
   "outputs": [
    {
     "ename": "NameError",
     "evalue": "name 'text' is not defined",
     "output_type": "error",
     "traceback": [
      "\u001b[31m---------------------------------------------------------------------------\u001b[39m",
      "\u001b[31mNameError\u001b[39m                                 Traceback (most recent call last)",
      "\u001b[36mCell\u001b[39m\u001b[36m \u001b[39m\u001b[32mIn[5]\u001b[39m\u001b[32m, line 1\u001b[39m\n\u001b[32m----> \u001b[39m\u001b[32m1\u001b[39m chunks = \u001b[43mtext\u001b[49m.split(\u001b[33m\"\u001b[39m\u001b[33m.\u001b[39m\u001b[33m\"\u001b[39m)\n",
      "\u001b[31mNameError\u001b[39m: name 'text' is not defined"
     ]
    }
   ],
   "source": [
    "chunks = text.split(\".\")"
   ]
  },
  {
   "cell_type": "code",
   "execution_count": 4,
   "id": "4bdc8641",
   "metadata": {},
   "outputs": [
    {
     "ename": "NameError",
     "evalue": "name 'chunks' is not defined",
     "output_type": "error",
     "traceback": [
      "\u001b[31m---------------------------------------------------------------------------\u001b[39m",
      "\u001b[31mNameError\u001b[39m                                 Traceback (most recent call last)",
      "\u001b[36mCell\u001b[39m\u001b[36m \u001b[39m\u001b[32mIn[4]\u001b[39m\u001b[32m, line 2\u001b[39m\n\u001b[32m      1\u001b[39m \u001b[38;5;28;01mfor\u001b[39;00m i \u001b[38;5;129;01min\u001b[39;00m \u001b[38;5;28mrange\u001b[39m(\u001b[32m10\u001b[39m):\n\u001b[32m----> \u001b[39m\u001b[32m2\u001b[39m     \u001b[38;5;28mprint\u001b[39m(\u001b[33mf\u001b[39m\u001b[33m\"\u001b[39m\u001b[33mToken length: \u001b[39m\u001b[38;5;132;01m{\u001b[39;00m\u001b[38;5;28mlen\u001b[39m(chunker_fixed._tokenizer.encode(\u001b[43mchunks\u001b[49m[i]))\u001b[38;5;132;01m}\u001b[39;00m\u001b[33m\"\u001b[39m)\n\u001b[32m      3\u001b[39m     \u001b[38;5;28mprint\u001b[39m(\u001b[33mf\u001b[39m\u001b[33m\"\u001b[39m\u001b[33mChar length: \u001b[39m\u001b[38;5;132;01m{\u001b[39;00m\u001b[38;5;28mlen\u001b[39m(chunks[i])\u001b[38;5;132;01m}\u001b[39;00m\u001b[33m\"\u001b[39m)\n\u001b[32m      4\u001b[39m     \u001b[38;5;28mprint\u001b[39m(\u001b[33m\"\u001b[39m\u001b[33m-------------------------------------\u001b[39m\u001b[33m\"\u001b[39m)\n",
      "\u001b[31mNameError\u001b[39m: name 'chunks' is not defined"
     ]
    }
   ],
   "source": [
    "for i in range(10):\n",
    "    print(f\"Token length: {len(chunker_fixed._tokenizer.encode(chunks[i]))}\")\n",
    "    print(f\"Char length: {len(chunks[i])}\")\n",
    "    print(\"-------------------------------------\")"
   ]
  },
  {
   "cell_type": "code",
   "execution_count": 2,
   "id": "bdcf1f8c",
   "metadata": {},
   "outputs": [],
   "source": [
    "from chunking_evaluation.chunking import RecursiveTokenChunker"
   ]
  },
  {
   "cell_type": "code",
   "execution_count": 3,
   "id": "2f79afe2",
   "metadata": {},
   "outputs": [],
   "source": [
    "chunker = RecursiveTokenChunker(chunk_size=800, chunk_overlap=50)"
   ]
  },
  {
   "cell_type": "code",
   "execution_count": 4,
   "id": "eeb1a1ad",
   "metadata": {},
   "outputs": [],
   "source": [
    "chunks = chunker.split_text(text)"
   ]
  },
  {
   "cell_type": "code",
   "execution_count": 5,
   "id": "a03349b0",
   "metadata": {},
   "outputs": [
    {
     "data": {
      "text/plain": [
       "'with a wide range of positive outcomes – from better academic achievement to improved career prospects and life satisfaction\\n● Public education campaigns: Governments and community organizations can run campaigns or workshops to educate the broader public about AI and jobs. For example, offering fre'"
      ]
     },
     "execution_count": 5,
     "metadata": {},
     "output_type": "execute_result"
    }
   ],
   "source": [
    "text[11000:11300]"
   ]
  },
  {
   "cell_type": "code",
   "execution_count": null,
   "id": "75dd5e14",
   "metadata": {},
   "outputs": [],
   "source": [
    "from langchain_openai import AzureOpenAIEmbeddings\n",
    "\n",
    "embeddings = AzureOpenAIEmbeddings(\n",
    "    model=\"text-embedding-3-small\",\n",
    "    azure_endpoint=config.get(\"AZURE_EMBEDDING_ENDPOINT\"),\n",
    "    api_key=config.get(\"AZURE_EMBEDDING_API_KEY\"),\n",
    ")\n",
    "\n",
    "ef = embeddings.embed_documents"
   ]
  },
  {
   "cell_type": "code",
   "execution_count": null,
   "id": "286f0d21",
   "metadata": {},
   "outputs": [],
   "source": []
  }
 ],
 "metadata": {
  "kernelspec": {
   "display_name": "venv",
   "language": "python",
   "name": "python3"
  },
  "language_info": {
   "codemirror_mode": {
    "name": "ipython",
    "version": 3
   },
   "file_extension": ".py",
   "mimetype": "text/x-python",
   "name": "python",
   "nbconvert_exporter": "python",
   "pygments_lexer": "ipython3",
   "version": "3.12.8"
  }
 },
 "nbformat": 4,
 "nbformat_minor": 5
}
