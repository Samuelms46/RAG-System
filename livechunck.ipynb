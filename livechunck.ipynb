{
 "cells": [
  {
   "cell_type": "code",
   "execution_count": 15,
   "id": "e91d455e",
   "metadata": {},
   "outputs": [],
   "source": [
    "from dotenv import dotenv_values\n",
    "config = dotenv_values(\".env\")\n",
    "from chunking_evaluation.chunking import FixedTokenChunker, ClusterSemanticChunker, RecursiveTokenChunker, KamradtModifiedChunker \n",
    "\n",
    "with open('data/EON.txt', 'r', encoding='utf-8') as file:\n",
    "    text = file.read()\n",
    "\n",
    "fixed_chunker = FixedTokenChunker(chunk_size=100, chunk_overlap=20)\n",
    "rec_chunker = RecursiveTokenChunker(chunk_size=200, chunk_overlap=20)\n",
    "\n",
    "fixed_chunks = fixed_chunker.split_text(text)\n",
    "rec_chunks = rec_chunker.split_text(text)\n",
    "\n",
    "# for i in range(5):"
   ]
  },
  {
   "cell_type": "code",
   "execution_count": 16,
   "id": "db6ba39c",
   "metadata": {},
   "outputs": [],
   "source": [
    "from langchain_openai import AzureOpenAIEmbeddings\n",
    "\n",
    "embeddings = AzureOpenAIEmbeddings(\n",
    "    model=\"text-embedding-3-small\",\n",
    "    azure_endpoint=config.get(\"AZURE_EMBEDDING_ENDPOINT\"),\n",
    "    api_key=config.get(\"AZURE_EMBEDDING_API_KEY\")\n",
    ")"
   ]
  },
  {
   "cell_type": "code",
   "execution_count": 17,
   "id": "516e47ca",
   "metadata": {},
   "outputs": [],
   "source": [
    "fixed_chunker = FixedTokenChunker(chunk_size=100, chunk_overlap=20)\n",
    "chunks= fixed_chunker.split_text(text)"
   ]
  },
  {
   "cell_type": "code",
   "execution_count": 18,
   "id": "5eb7d740",
   "metadata": {},
   "outputs": [],
   "source": [
    "rec_chunker = RecursiveTokenChunker(chunk_size=400, chunk_overlap=20)\n",
    "chunks = rec_chunker.split_text(text)"
   ]
  },
  {
   "cell_type": "code",
   "execution_count": 22,
   "id": "9cb6da8c",
   "metadata": {},
   "outputs": [
    {
     "name": "stdout",
     "output_type": "stream",
     "text": [
      "ill be disrupted, AI is expected to create as many jobs as it displaces overall – but those new jobs will require different skills and continuous learning Knowing this can replace panic with purpose: if individuals see that new opportunities exist and can be prepared for, they feel more in control .\n",
      "-------------------------------------\n",
      "● Incorporating resilience and mindset training: Adapting to rapid change is stressful. Education can integrate social-emotional learning components that build resilience, adaptability, and a growth mindset . This might involve teaching stress management techniques, fostering a mindset that views change as an opportunity to grow (rather than a threat), and normalizing the idea of multiple careers in one’s lifetime. ● Career coaching and mentorship: Personal mentorship can be extremely reassuring during career transitions. A mentor (such as a teacher, career counselor, or industry expert) can help an individual navigate options and build confidence . Research shows that mentoring is associated with a wide range of positive outcomes – from better academic achievement to improved career prospects and life satisfaction\n",
      "-------------------------------------\n",
      "● Public education campaigns: Governments and community organizations can run campaigns or workshops to educate the broader public about AI and jobs. For example, offering free short courses on “AI for Beginners” or hosting community talks can demystify AI . Finland’s aforementioned Elements of AI online course (which attracted hundreds of thousands of learners globally) is a great example of empowering citizens with knowledge to reduce fear . When people understand what AI can and cannot do, they are less likely to have vague fears and more likely to identify concrete steps for their career. ● Policy safety nets: While not purely an educational measure, having policies like unemployment benefits, scholarships for retraining, or even discussions of Universal Basic Income (UBI) can reduce panic . If people know there’s societal support while they retrain, the prospect of job automation is less frightening. Education programs should advertise and guide learners toward these support resources when relevant. Ultimately, Phase 1 education is about enabling humans to thrive alongside AI agents. By focusing on adaptable skills, leveraging immersive training, and addressing psychological needs, educational institutions can turn the challenge of automation into an opportunity . Instead of viewing AI as a threat, learners can be taught to see AI as a tool – one that, if mastered, can boost their productivity and open doors to new careers . The end goal is a workforce prepared for the shifting landscape, armed with both the hard skills (like technical know-how) and the soft skills (like creativity and emotional intelligence) to secure meaningful employment in an AI-enhanced economy.\n",
      "-------------------------------------\n",
      "Phase 2 (2028-2033): Artificial General Intelligence and Purpose-Driven Learning\n",
      "-------------------------------------\n",
      "By the late 2020s and early 2030s, we enter a phase where AI could reach or approach Artificial General Intelligence (AGI) – a level of machine intelligence equivalent to human intelligence across the full range of cognitive tasks . While timelines are debated, some AI experts give significant probability to human-level AI emerging around this period . For instance, one AI research leader estimated a 50% chance of AGI by 2030 , and forecasting platforms like Metaculus have a median prediction around 2031 for the first general AI system . Whether AGI arrives exactly in 2030 or a few years later, the scenario is that in this phase AI can perform nearly all jobs that humans can – often faster, cheaper, and with fewer errors . This marks a dramatic shift: AI is no longer just augmenting human work; in many cases, it can replace human work entirely. The End of “Jobs” as We Know Them? If AGI becomes a reality, most traditional white-collar and blue-collar jobs could be handled by machines . An AGI could potentially write software, diagnose illnesses, draft legal contracts, drive vehicles, teach classes, create art, and do scientific research – essentially encompassing both routine manual labor and complex knowledge work\n",
      "-------------------------------------\n"
     ]
    }
   ],
   "source": [
    "small_text = text[10000:40000]\n",
    "\n",
    "sem_chunker = ClusterSemanticChunker(max_chunk_size=400, embedding_function=embeddings.embed_documents)\n",
    "chunks = sem_chunker.split_text(small_text)\n",
    "\n",
    "for i in range(5):\n",
    "    print(chunks[i])\n",
    "    print(\"-------------------------------------\")"
   ]
  },
  {
   "cell_type": "code",
   "execution_count": 23,
   "id": "85bb11fc",
   "metadata": {},
   "outputs": [
    {
     "name": "stdout",
     "output_type": "stream",
     "text": [
      ". Research supports that such high-impact educational practices (like project-based learning, service learning, or capstone projects driven by student interest) boost student engagement and retention far more than traditional lecture-based methods .\n",
      "-------------------------------------\n",
      "● Purpose-Driven Learning: An emerging concept is to have learners define their own mission and tailor their education around it. A notable example comes from an experimental initiative at Stanford called “Purpose Learning .” Stanford asked students to declare a mission, not just a major – for instance, a student might say “I’m studying biology to eliminate world hunger,” instead of simply “I’m a biology major.” The curriculum was then oriented around that mission, coupling disciplinary knowledge with the student’s chosen purpose . “The goal was to help students select a meaningful course of study… It wasn’t about the career trajectory, but the reasons behind it,” explains the Stanford 2025 report . This approach effectively makes purpose the organizing principle of education . Similarly, schools worldwide can implement frameworks where students articulate their values and interests, and educators guide them to experiences that align with those personal missions. ● Experiential and Interdisciplinary Learning: In the pursuit of purpose, experience is the best teacher. Education in this phase should emphasize learning through real-world projects, mentorship, and even simulation . For example, a student passionate about climate action might work on a local environmental project, or an aspiring “purpose director” for community health might intern at a clinic or use a simulation to run a public health campaign in virtual reality . Interdisciplinary learning becomes crucial because solving real-world problems (which is what purpose-driven projects often involve) rarely fits neatly into one subject\n",
      "-------------------------------------\n",
      ". A project on “eliminating hunger” involves biology (agriculture, nutrition), economics, political science, and ethics. Schools can break the silos between subjects, encouraging thematic learning that reflects real challenges.\n",
      "-------------------------------------\n",
      "● Mentorship and Coaching: With learners charting individualized paths, the role of educators transforms from lecturers to mentors and coaches. Each learner benefits from guidance to refine their goals and reflect on their experiences . Mentors help connect the dots (“What did you learn from that community project? What will you try next?”) and provide emotional support . This human element of mentorship is vital; even as AI tutors (like EON Reality) might help with information and skill practice, human mentors provide empathy, moral guidance, and share life experiences – things an AGI, no matter how smart, might not fully replicate . Studies consistently show that mentorship yields positive outcomes in personal and professional development . In this future context, mentorship might include not just teachers, but also community leaders, project supervisors, or even AI mentors tuned to personal development (with human oversight).\n",
      "-------------------------------------\n",
      "● Personalized, Lifelong Learning Journeys: In Phase 2, learning is lifelong and tailored. People might frequently pivot to new pursuits as they discover new interests or as society’s needs change . Education systems should allow easy entry and exit – someone might dive into learning environmental science for a year to contribute to a reforestation project, then later spend time learning music composition if they discover an artistic calling . Credentials might shift from broad degrees to portfolios of projects or “purpose profiles” demonstrating what one has accomplished or explored. The flexibility and support to continually learn and reinvent oneself become more important than any static qualification. Another crucial component of Phase 2 education is emotional and psychological support. As noted, many individuals will grapple with the loss of traditional work identities. Education systems should integrate training in emotional intelligence, self-reflection, and mental health resilience . For example, courses in mindfulness, philosophy, or even “Designing Your Life”-style frameworks (as taught at some universities) can help students navigate questions of meaning and cope with uncertainty . Group discussions and counseling resources can allow people to share their struggles and hopes as they transition to this new paradigm of self-directed purpose . The message needs to be: each person still has value and a role, even if that role isn’t a conventional “job.”\n",
      "-------------------------------------\n"
     ]
    }
   ],
   "source": [
    "for i in range(5):\n",
    "    print(chunks[10+i])\n",
    "    print(\"-------------------------------------\")"
   ]
  }
 ],
 "metadata": {
  "kernelspec": {
   "display_name": "venv",
   "language": "python",
   "name": "python3"
  },
  "language_info": {
   "codemirror_mode": {
    "name": "ipython",
    "version": 3
   },
   "file_extension": ".py",
   "mimetype": "text/x-python",
   "name": "python",
   "nbconvert_exporter": "python",
   "pygments_lexer": "ipython3",
   "version": "3.12.8"
  }
 },
 "nbformat": 4,
 "nbformat_minor": 5
}
