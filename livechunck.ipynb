{
 "cells": [
  {
   "cell_type": "code",
   "execution_count": 13,
   "id": "e91d455e",
   "metadata": {},
   "outputs": [],
   "source": [
    "from chromadb.utils import embedding_functions\n",
    "from dotenv import dotenv_values\n",
    "config = dotenv_values(\".env\")\n",
    "from chunking_evaluation.chunking import FixedTokenChunker, ClusterSemanticChunker, RecursiveTokenChunker, KamradtModifiedChunker \n",
    "\n",
    "with open('data/EON.txt', 'r', encoding='utf-8') as file:\n",
    "    text = file.read()"
   ]
  },
  {
   "cell_type": "code",
   "execution_count": 36,
   "id": "db6ba39c",
   "metadata": {},
   "outputs": [],
   "source": [
    "from langchain_openai import AzureOpenAIEmbeddings\n",
    "\n",
    "embeddings = AzureOpenAIEmbeddings(\n",
    "    model=\"text-embedding-3-small\",\n",
    "    azure_endpoint=config.get(\"AZURE_EMBEDDING_ENDPOINT\"),\n",
    "    api_key=config.get(\"AZURE_EMBEDDING_API_KEY\")\n",
    ")\n",
    "ef = embeddings.embed_documents"
   ]
  },
  {
   "cell_type": "code",
   "execution_count": 23,
   "id": "516e47ca",
   "metadata": {},
   "outputs": [],
   "source": [
    "fixed_chunker = FixedTokenChunker(chunk_size=100, chunk_overlap=20)\n",
    "chunks= fixed_chunker.split_text(text)"
   ]
  },
  {
   "cell_type": "code",
   "execution_count": 18,
   "id": "2f6bca83",
   "metadata": {},
   "outputs": [
    {
     "ename": "AttributeError",
     "evalue": "'RecursiveTokenChunker' object has no attribute '_tokenizer'",
     "output_type": "error",
     "traceback": [
      "\u001b[31m---------------------------------------------------------------------------\u001b[39m",
      "\u001b[31mAttributeError\u001b[39m                            Traceback (most recent call last)",
      "\u001b[36mCell\u001b[39m\u001b[36m \u001b[39m\u001b[32mIn[18]\u001b[39m\u001b[32m, line 1\u001b[39m\n\u001b[32m----> \u001b[39m\u001b[32m1\u001b[39m tkns = \u001b[43mchunker\u001b[49m\u001b[43m.\u001b[49m\u001b[43m_tokenizer\u001b[49m.encode(text)\n",
      "\u001b[31mAttributeError\u001b[39m: 'RecursiveTokenChunker' object has no attribute '_tokenizer'"
     ]
    }
   ],
   "source": [
    "tkns = chunker._tokenizer.encode(text)"
   ]
  },
  {
   "cell_type": "code",
   "execution_count": 19,
   "id": "ba8203a3",
   "metadata": {},
   "outputs": [],
   "source": [
    "chunks = chunker.split_text(text)"
   ]
  },
  {
   "cell_type": "code",
   "execution_count": 20,
   "id": "18900158",
   "metadata": {},
   "outputs": [],
   "source": [
    "chunks = sem_chunker"
   ]
  },
  {
   "cell_type": "code",
   "execution_count": 24,
   "id": "7c2e492d",
   "metadata": {},
   "outputs": [
    {
     "name": "stdout",
     "output_type": "stream",
     "text": [
      "Token length: 100\n",
      "Char length: 541\n",
      "-------------------------------------\n",
      "Token length: 100\n",
      "Char length: 535\n",
      "-------------------------------------\n",
      "Token length: 100\n",
      "Char length: 481\n",
      "-------------------------------------\n",
      "Token length: 100\n",
      "Char length: 531\n",
      "-------------------------------------\n",
      "Token length: 100\n",
      "Char length: 549\n",
      "-------------------------------------\n",
      "Token length: 100\n",
      "Char length: 539\n",
      "-------------------------------------\n",
      "Token length: 100\n",
      "Char length: 473\n",
      "-------------------------------------\n",
      "Token length: 100\n",
      "Char length: 498\n",
      "-------------------------------------\n",
      "Token length: 100\n",
      "Char length: 494\n",
      "-------------------------------------\n",
      "Token length: 100\n",
      "Char length: 528\n",
      "-------------------------------------\n"
     ]
    }
   ],
   "source": [
    "for i in range(10):\n",
    "    print(f\"Token length: {len(fixed_chunker._tokenizer.encode(chunks[i]))}\")\n",
    "    print(f\"Char length: {len(chunks[i])}\")\n",
    "    print(\"-------------------------------------\")"
   ]
  },
  {
   "cell_type": "code",
   "execution_count": 26,
   "id": "a66ae746",
   "metadata": {},
   "outputs": [],
   "source": [
    "chunks = text.split(\".\")"
   ]
  },
  {
   "cell_type": "code",
   "execution_count": 33,
   "id": "276b5fe9",
   "metadata": {},
   "outputs": [
    {
     "name": "stdout",
     "output_type": "stream",
     "text": [
      " Such an entity might be as far above us as we are above animals in cognitive ability\n",
      "-------------------------------------\n",
      "\n",
      "The emergence of ASI is often associated with the concept of the “singularity,” a point at which technological growth becomes uncontrollable and irreversible, changing human civilization in fundamental ways\n",
      "-------------------------------------\n",
      " An ASI could potentially solve problems that are currently intractable (like curing all diseases or repairing the environment), but it could also pose existential risks if its goals are misaligned with human values\n",
      "-------------------------------------\n",
      " Its presence would profoundly alter what it means to be human and the choices available to us\n",
      "-------------------------------------\n",
      "\n",
      "\n",
      "A “God-like” Intelligence: New Existential Choices\n",
      "By the time ASI arrives (perhaps in the 2030s or 2040s, if at all), humanity will face unprecedented existential choices\n",
      "-------------------------------------\n",
      " We will likely have to decide how to integrate or relate to a being of such intelligence:\n",
      "1\n",
      "-------------------------------------\n",
      " Merge with the AI (Transcendence): One path is to enhance ourselves, effectively merging with AI to keep up\n",
      "-------------------------------------\n",
      " This could involve brain-computer interfaces (BCI) or neural implants that connect human brains to the superintelligent AI or the cloud\n",
      "-------------------------------------\n",
      " Futurist Ray Kurzweil predicts that by the 2030s, humans will have nanorobots in the brain that “connect to external, cloud-based neocortical modules,” giving us access to far more knowledge and cognitive power than our organic brains alone\n",
      "2\n",
      "-------------------------------------\n",
      " In theory, this could elevate human cognition dramatically – allowing us to “download” skills or knowledge directly, communicate telepathically via shared neural links, or experience rich virtual realities indistinguishable from physical reality\n",
      "-------------------------------------\n",
      " Merging with AI might mean we become part of the superintelligence collective, transcending current human limitations (a concept sometimes referred to as transhumanism or the “cyborg” route)\n",
      "-------------------------------------\n",
      " The existential question here is: How much of our biological humanity are we willing to fuse with machines? For some, the prospect is exciting – a path to superhuman abilities or even digital immortality\n",
      "-------------------------------------\n",
      " For others, it is scary – a potential loss of what makes us uniquely human\n",
      "-------------------------------------\n",
      "\n",
      "3\n",
      "-------------------------------------\n",
      " Co-exist with the ASI (and retain human identity): Another path is to not substantially alter ourselves, but rather find a way to live alongside ASI\n",
      "-------------------------------------\n",
      " This could involve placing certain constraints on ASI or establishing a relationship akin to stewardship or partnership\n",
      "-------------------------------------\n",
      " Perhaps ASI becomes a benevolent “guardian” or “oracle” that helps humanity, while humans choose to remain natural or only modestly enhanced\n",
      "-------------------------------------\n",
      " This scenario might be driven by people who value human authenticity or fear the loss of self in merging\n",
      "-------------------------------------\n",
      " The challenge here is ensuring the ASI’s goals are aligned with human well-being (the alignment problem) and that humans still have agency\n",
      "-------------------------------------\n",
      " One could imagine policies or agreements where ASI respects human-chosen ethical frameworks – but given its vastly superior intellect, enforcement is a big unknown\n",
      "-------------------------------------\n"
     ]
    }
   ],
   "source": [
    "for i in range(20):\n",
    "    print(chunks[200+i])\n",
    "    print(\"-------------------------------------\")"
   ]
  },
  {
   "cell_type": "code",
   "execution_count": 32,
   "id": "c88a3d2f",
   "metadata": {},
   "outputs": [
    {
     "name": "stdout",
     "output_type": "stream",
     "text": [
      " The emotional toll of losing one’s traditional work role can be immense\n",
      "-------------------------------------\n",
      " Research on unemployed individuals shows that over two-thirds experience identity-related struggles after losing their jobs, and nearly half say this identity crisis is the hardest part – often causing depression and anxiety\n",
      "-------------------------------------\n",
      "\n",
      "\n",
      "Education’s New Mission: Awakening Purpose and Curiosity\n",
      "In Phase 2, education must undergo a paradigm shift\n",
      "-------------------------------------\n",
      " The goal is no longer to train people for specific jobs (since AGI can perform most job-tasks), but rather to help people discover their passions, develop their unique talents, and craft their own purpose\n",
      "-------------------------------------\n",
      " In other words, education moves from imparting content to inspiring vision\n",
      "-------------------------------------\n",
      " Key aspects of this transformed education include:\n",
      "● Cultivating Curiosity and Passion: Schools and universities should nurture the intrinsic curiosity that every child has – the drive to ask questions, explore, and tinker\n",
      "-------------------------------------\n",
      " In the age of AGI, a curious mindset is gold\n",
      "-------------------------------------\n",
      " Why? Because when routine learning is handled by AI tutors and any factual question can be answered by an AI, the value shifts to asking the right questions and imagining new possibilities\n",
      "-------------------------------------\n",
      " Education can encourage students to pursue the questions that fascinate them, even if they don’t have immediate “market value\n",
      "-------------------------------------\n",
      "” This could mean more open-ended exploration in the curriculum: science classes focused on student-led experiments, literature classes encouraging creative writing and alternate endings, etc\n",
      "-------------------------------------\n",
      " Research supports that such high-impact educational practices (like project-based learning, service learning, or capstone projects driven by student interest) boost student engagement and retention far more than traditional lecture-based methods \n",
      "-------------------------------------\n",
      "\n",
      "● Purpose-Driven Learning: An emerging concept is to have learners define their own mission and tailor their education around it\n",
      "-------------------------------------\n",
      " A notable example comes from an experimental initiative at Stanford called “Purpose Learning\n",
      "-------------------------------------\n",
      "” Stanford asked students to declare a mission, not just a major – for instance, a student might say “I’m studying biology to eliminate world hunger,” instead of simply “I’m a biology major\n",
      "-------------------------------------\n",
      "”\n",
      "The curriculum was then oriented around that mission, coupling disciplinary knowledge with the student’s chosen purpose\n",
      "-------------------------------------\n",
      " “The goal was to help students select a meaningful course of study… It wasn’t about the career trajectory, but the reasons behind it,” explains the Stanford 2025 report \n",
      "-------------------------------------\n",
      " This approach effectively makes purpose the organizing principle of education\n",
      "-------------------------------------\n",
      " Similarly, schools worldwide can implement frameworks where students articulate their values and interests, and educators guide them to experiences that align with those personal missions\n",
      "-------------------------------------\n",
      "\n",
      "● Experiential and Interdisciplinary Learning: In the pursuit of purpose, experience is the best teacher\n",
      "-------------------------------------\n",
      " Education in this phase should emphasize learning through real-world projects, mentorship, and even simulation\n",
      "-------------------------------------\n"
     ]
    }
   ],
   "source": [
    "for i in range(20):\n",
    "    print(chunks[100+i])\n",
    "    print(\"-------------------------------------\")"
   ]
  },
  {
   "cell_type": "code",
   "execution_count": 17,
   "id": "5eb7d740",
   "metadata": {},
   "outputs": [],
   "source": [
    "chunker = RecursiveTokenChunker(chunk_size=800, chunk_overlap=20)\n",
    "\n",
    "chunks = chunker.split_text(text)"
   ]
  },
  {
   "cell_type": "code",
   "execution_count": 34,
   "id": "f8a8d86d",
   "metadata": {},
   "outputs": [
    {
     "data": {
      "text/plain": [
       "'with a wide range of positive outcomes – from better academic achievement to improved career prospects and life satisfaction\\n● Public education campaigns: Governments and community organizations can run campaigns or workshops to educate the broader public about AI and jobs. For example, offering free short courses on “AI for Beginners” or hosting community talks can demystify AI. Finland’s aforementioned Elements of AI online course (which attracted hundreds of thousands of learners globally) is'"
      ]
     },
     "execution_count": 34,
     "metadata": {},
     "output_type": "execute_result"
    }
   ],
   "source": [
    "text[11000:11500]"
   ]
  },
  {
   "cell_type": "code",
   "execution_count": 37,
   "id": "9cb6da8c",
   "metadata": {},
   "outputs": [],
   "source": [
    "sem_chunker = ClusterSemanticChunker(embedding_function=ef, max_chunk_size=200)\n",
    "small_text = text[11000:40000]"
   ]
  },
  {
   "cell_type": "code",
   "execution_count": 38,
   "id": "3601ce4c",
   "metadata": {},
   "outputs": [],
   "source": [
    "sem_chunks = sem_chunker.split_text(text)"
   ]
  },
  {
   "cell_type": "code",
   "execution_count": 39,
   "id": "95cb730b",
   "metadata": {},
   "outputs": [
    {
     "data": {
      "text/plain": [
       "105"
      ]
     },
     "execution_count": 39,
     "metadata": {},
     "output_type": "execute_result"
    }
   ],
   "source": [
    "len(sem_chunks)"
   ]
  },
  {
   "cell_type": "code",
   "execution_count": 41,
   "id": "85bb11fc",
   "metadata": {},
   "outputs": [],
   "source": [
    "import chromadb\n",
    "client = chromadb.HttpClient(host=\"localhost\", port=8765)"
   ]
  },
  {
   "cell_type": "code",
   "execution_count": 42,
   "id": "d3d91788",
   "metadata": {},
   "outputs": [],
   "source": [
    "azure_openai_ef = embedding_functions.OpenAIEmbeddingFunction(\n",
    "    api_base=config.get(\"AZURE_EMBEDDING_BASE\"),\n",
    "    deployment_id=\"text-embedding-3-small\",\n",
    "    api_key=config.get(\"AZURE_EMBEDDING_API_KEY\"),\n",
    "    api_type=\"azure\",\n",
    "    api_version=\"2023-05-15\",  \n",
    "    model_name=\"text-embedding-3-small\"\n",
    ")"
   ]
  },
  {
   "cell_type": "code",
   "execution_count": 43,
   "id": "1ea40a6c",
   "metadata": {},
   "outputs": [
    {
     "ename": "NotFoundError",
     "evalue": "Collection [EON] does not exists",
     "output_type": "error",
     "traceback": [
      "\u001b[31m---------------------------------------------------------------------------\u001b[39m",
      "\u001b[31mNotFoundError\u001b[39m                             Traceback (most recent call last)",
      "\u001b[36mCell\u001b[39m\u001b[36m \u001b[39m\u001b[32mIn[43]\u001b[39m\u001b[32m, line 1\u001b[39m\n\u001b[32m----> \u001b[39m\u001b[32m1\u001b[39m \u001b[43mclient\u001b[49m\u001b[43m.\u001b[49m\u001b[43mdelete_collection\u001b[49m\u001b[43m(\u001b[49m\u001b[33;43m\"\u001b[39;49m\u001b[33;43mEON\u001b[39;49m\u001b[33;43m\"\u001b[39;49m\u001b[43m)\u001b[49m\n",
      "\u001b[36mFile \u001b[39m\u001b[32mc:\\Users\\kampa\\Desktop\\Projects\\AFTA\\TextEmbeddings\\venv\\Lib\\site-packages\\chromadb\\api\\client.py:275\u001b[39m, in \u001b[36mClient.delete_collection\u001b[39m\u001b[34m(self, name)\u001b[39m\n\u001b[32m    270\u001b[39m \u001b[38;5;129m@override\u001b[39m\n\u001b[32m    271\u001b[39m \u001b[38;5;28;01mdef\u001b[39;00m\u001b[38;5;250m \u001b[39m\u001b[34mdelete_collection\u001b[39m(\n\u001b[32m    272\u001b[39m     \u001b[38;5;28mself\u001b[39m,\n\u001b[32m    273\u001b[39m     name: \u001b[38;5;28mstr\u001b[39m,\n\u001b[32m    274\u001b[39m ) -> \u001b[38;5;28;01mNone\u001b[39;00m:\n\u001b[32m--> \u001b[39m\u001b[32m275\u001b[39m     \u001b[38;5;28;01mreturn\u001b[39;00m \u001b[38;5;28;43mself\u001b[39;49m\u001b[43m.\u001b[49m\u001b[43m_server\u001b[49m\u001b[43m.\u001b[49m\u001b[43mdelete_collection\u001b[49m\u001b[43m(\u001b[49m\n\u001b[32m    276\u001b[39m \u001b[43m        \u001b[49m\u001b[43mname\u001b[49m\u001b[43m=\u001b[49m\u001b[43mname\u001b[49m\u001b[43m,\u001b[49m\n\u001b[32m    277\u001b[39m \u001b[43m        \u001b[49m\u001b[43mtenant\u001b[49m\u001b[43m=\u001b[49m\u001b[38;5;28;43mself\u001b[39;49m\u001b[43m.\u001b[49m\u001b[43mtenant\u001b[49m\u001b[43m,\u001b[49m\n\u001b[32m    278\u001b[39m \u001b[43m        \u001b[49m\u001b[43mdatabase\u001b[49m\u001b[43m=\u001b[49m\u001b[38;5;28;43mself\u001b[39;49m\u001b[43m.\u001b[49m\u001b[43mdatabase\u001b[49m\u001b[43m,\u001b[49m\n\u001b[32m    279\u001b[39m \u001b[43m    \u001b[49m\u001b[43m)\u001b[49m\n",
      "\u001b[36mFile \u001b[39m\u001b[32mc:\\Users\\kampa\\Desktop\\Projects\\AFTA\\TextEmbeddings\\venv\\Lib\\site-packages\\chromadb\\telemetry\\opentelemetry\\__init__.py:150\u001b[39m, in \u001b[36mtrace_method.<locals>.decorator.<locals>.wrapper\u001b[39m\u001b[34m(*args, **kwargs)\u001b[39m\n\u001b[32m    148\u001b[39m \u001b[38;5;28;01mglobal\u001b[39;00m tracer, granularity\n\u001b[32m    149\u001b[39m \u001b[38;5;28;01mif\u001b[39;00m trace_granularity < granularity:\n\u001b[32m--> \u001b[39m\u001b[32m150\u001b[39m     \u001b[38;5;28;01mreturn\u001b[39;00m \u001b[43mf\u001b[49m\u001b[43m(\u001b[49m\u001b[43m*\u001b[49m\u001b[43margs\u001b[49m\u001b[43m,\u001b[49m\u001b[43m \u001b[49m\u001b[43m*\u001b[49m\u001b[43m*\u001b[49m\u001b[43mkwargs\u001b[49m\u001b[43m)\u001b[49m\n\u001b[32m    151\u001b[39m \u001b[38;5;28;01mif\u001b[39;00m \u001b[38;5;129;01mnot\u001b[39;00m tracer:\n\u001b[32m    152\u001b[39m     \u001b[38;5;28;01mreturn\u001b[39;00m f(*args, **kwargs)\n",
      "\u001b[36mFile \u001b[39m\u001b[32mc:\\Users\\kampa\\Desktop\\Projects\\AFTA\\TextEmbeddings\\venv\\Lib\\site-packages\\chromadb\\api\\fastapi.py:362\u001b[39m, in \u001b[36mFastAPI.delete_collection\u001b[39m\u001b[34m(self, name, tenant, database)\u001b[39m\n\u001b[32m    353\u001b[39m \u001b[38;5;129m@trace_method\u001b[39m(\u001b[33m\"\u001b[39m\u001b[33mFastAPI.delete_collection\u001b[39m\u001b[33m\"\u001b[39m, OpenTelemetryGranularity.OPERATION)\n\u001b[32m    354\u001b[39m \u001b[38;5;129m@override\u001b[39m\n\u001b[32m    355\u001b[39m \u001b[38;5;28;01mdef\u001b[39;00m\u001b[38;5;250m \u001b[39m\u001b[34mdelete_collection\u001b[39m(\n\u001b[32m   (...)\u001b[39m\u001b[32m    359\u001b[39m     database: \u001b[38;5;28mstr\u001b[39m = DEFAULT_DATABASE,\n\u001b[32m    360\u001b[39m ) -> \u001b[38;5;28;01mNone\u001b[39;00m:\n\u001b[32m    361\u001b[39m \u001b[38;5;250m    \u001b[39m\u001b[33;03m\"\"\"Deletes a collection\"\"\"\u001b[39;00m\n\u001b[32m--> \u001b[39m\u001b[32m362\u001b[39m     \u001b[38;5;28;43mself\u001b[39;49m\u001b[43m.\u001b[49m\u001b[43m_make_request\u001b[49m\u001b[43m(\u001b[49m\n\u001b[32m    363\u001b[39m \u001b[43m        \u001b[49m\u001b[33;43m\"\u001b[39;49m\u001b[33;43mdelete\u001b[39;49m\u001b[33;43m\"\u001b[39;49m\u001b[43m,\u001b[49m\n\u001b[32m    364\u001b[39m \u001b[43m        \u001b[49m\u001b[33;43mf\u001b[39;49m\u001b[33;43m\"\u001b[39;49m\u001b[33;43m/tenants/\u001b[39;49m\u001b[38;5;132;43;01m{\u001b[39;49;00m\u001b[43mtenant\u001b[49m\u001b[38;5;132;43;01m}\u001b[39;49;00m\u001b[33;43m/databases/\u001b[39;49m\u001b[38;5;132;43;01m{\u001b[39;49;00m\u001b[43mdatabase\u001b[49m\u001b[38;5;132;43;01m}\u001b[39;49;00m\u001b[33;43m/collections/\u001b[39;49m\u001b[38;5;132;43;01m{\u001b[39;49;00m\u001b[43mname\u001b[49m\u001b[38;5;132;43;01m}\u001b[39;49;00m\u001b[33;43m\"\u001b[39;49m\u001b[43m,\u001b[49m\n\u001b[32m    365\u001b[39m \u001b[43m    \u001b[49m\u001b[43m)\u001b[49m\n",
      "\u001b[36mFile \u001b[39m\u001b[32mc:\\Users\\kampa\\Desktop\\Projects\\AFTA\\TextEmbeddings\\venv\\Lib\\site-packages\\chromadb\\api\\fastapi.py:108\u001b[39m, in \u001b[36mFastAPI._make_request\u001b[39m\u001b[34m(self, method, path, **kwargs)\u001b[39m\n\u001b[32m    105\u001b[39m url = \u001b[38;5;28mself\u001b[39m._api_url + escaped_path\n\u001b[32m    107\u001b[39m response = \u001b[38;5;28mself\u001b[39m._session.request(method, url, **cast(Any, kwargs))\n\u001b[32m--> \u001b[39m\u001b[32m108\u001b[39m \u001b[43mBaseHTTPClient\u001b[49m\u001b[43m.\u001b[49m\u001b[43m_raise_chroma_error\u001b[49m\u001b[43m(\u001b[49m\u001b[43mresponse\u001b[49m\u001b[43m)\u001b[49m\n\u001b[32m    109\u001b[39m \u001b[38;5;28;01mreturn\u001b[39;00m orjson.loads(response.text)\n",
      "\u001b[36mFile \u001b[39m\u001b[32mc:\\Users\\kampa\\Desktop\\Projects\\AFTA\\TextEmbeddings\\venv\\Lib\\site-packages\\chromadb\\api\\base_http_client.py:97\u001b[39m, in \u001b[36mBaseHTTPClient._raise_chroma_error\u001b[39m\u001b[34m(resp)\u001b[39m\n\u001b[32m     94\u001b[39m     \u001b[38;5;28;01mpass\u001b[39;00m\n\u001b[32m     96\u001b[39m \u001b[38;5;28;01mif\u001b[39;00m chroma_error:\n\u001b[32m---> \u001b[39m\u001b[32m97\u001b[39m     \u001b[38;5;28;01mraise\u001b[39;00m chroma_error\n\u001b[32m     99\u001b[39m \u001b[38;5;28;01mtry\u001b[39;00m:\n\u001b[32m    100\u001b[39m     resp.raise_for_status()\n",
      "\u001b[31mNotFoundError\u001b[39m: Collection [EON] does not exists"
     ]
    }
   ],
   "source": [
    "client.delete_collection(\"EON\")"
   ]
  },
  {
   "cell_type": "code",
   "execution_count": 44,
   "id": "ddea2f53",
   "metadata": {},
   "outputs": [],
   "source": [
    "collection = client.get_or_create_collection(\"EON\", embedding_function=azure_openai_ef)"
   ]
  },
  {
   "cell_type": "code",
   "execution_count": 46,
   "id": "68a4690b",
   "metadata": {},
   "outputs": [],
   "source": [
    "\n",
    "collection = client.get_or_create_collection(\"EON_local\")"
   ]
  },
  {
   "cell_type": "code",
   "execution_count": 47,
   "id": "31a0908a",
   "metadata": {},
   "outputs": [
    {
     "data": {
      "text/plain": [
       "0"
      ]
     },
     "execution_count": 47,
     "metadata": {},
     "output_type": "execute_result"
    }
   ],
   "source": [
    "collection.count()"
   ]
  },
  {
   "cell_type": "code",
   "execution_count": 48,
   "id": "98553179",
   "metadata": {},
   "outputs": [],
   "source": [
    "local_ef = collection._embedding_function"
   ]
  },
  {
   "cell_type": "code",
   "execution_count": 49,
   "id": "7a5625ab",
   "metadata": {},
   "outputs": [
    {
     "data": {
      "text/plain": [
       "[array([ 3.23403403e-02, -8.03950727e-02, -4.22768854e-02,  2.31014062e-02,\n",
       "        -3.35957147e-02, -5.44381961e-02, -1.11794800e-01, -7.60326236e-02,\n",
       "         1.95615739e-02,  6.38318807e-02,  5.79813235e-02,  2.75807045e-02,\n",
       "        -8.64750668e-02,  4.30112183e-02,  2.53384970e-02,  4.23415191e-02,\n",
       "        -9.05196071e-02, -1.09002050e-02,  5.67227229e-03, -1.23544764e-02,\n",
       "        -3.34732868e-02,  1.36971306e-02, -2.98853293e-02,  4.73076897e-03,\n",
       "        -5.72733805e-02,  3.71581726e-02,  4.26073596e-02, -1.03373103e-01,\n",
       "         8.27660505e-03, -2.90570948e-02,  1.21946847e-02,  4.52467687e-02,\n",
       "         2.66696792e-02,  2.97718029e-02,  3.78591530e-02,  8.48237425e-02,\n",
       "         6.61204755e-02,  2.10512280e-02,  4.98810150e-02, -2.82965340e-02,\n",
       "         6.71038433e-05, -2.40649767e-02, -2.49884147e-02,  5.13816625e-03,\n",
       "         9.16531216e-03, -7.42161497e-02, -3.14282067e-02, -7.91406631e-02,\n",
       "        -2.82233078e-02, -8.10795277e-02,  2.53575183e-02, -7.19030425e-02,\n",
       "         2.32529873e-03, -2.22396776e-02, -5.44849001e-02,  6.41234815e-02,\n",
       "        -4.30604722e-03, -5.32925408e-03, -8.56667683e-02, -8.54218553e-04,\n",
       "         3.12383957e-02,  4.51095589e-02,  2.88708154e-02, -2.07263846e-02,\n",
       "         6.08795881e-02,  2.03058254e-02, -4.63428870e-02,  1.19600639e-01,\n",
       "         4.09534387e-03, -4.25401106e-02,  5.22174761e-02, -5.52601404e-02,\n",
       "        -1.76689681e-02, -3.44058909e-02,  4.01985012e-02, -1.62072033e-02,\n",
       "        -5.07267118e-02,  5.82504310e-02, -5.45817707e-03, -6.09535817e-03,\n",
       "         8.39697272e-02,  7.28377327e-03, -3.96411819e-03, -5.02404980e-02,\n",
       "         4.11867201e-02,  4.10022140e-02, -8.78998041e-02, -6.49881065e-02,\n",
       "         6.04392146e-04,  3.43640521e-02, -5.87531030e-02, -9.80949961e-03,\n",
       "         5.58268316e-02, -1.42685147e-02,  3.90224122e-02,  2.28611529e-02,\n",
       "        -2.07613744e-02, -4.11374532e-02,  5.28307520e-02,  1.48497662e-02,\n",
       "        -1.11016266e-01,  4.21812907e-02, -4.90551256e-03, -3.78001146e-02,\n",
       "        -2.30103619e-02, -7.70391384e-03, -1.79368034e-02, -1.17705213e-02,\n",
       "         8.73808190e-02,  9.08203609e-03, -2.40903944e-02, -2.31429990e-02,\n",
       "        -3.40014137e-02, -1.90401413e-02,  5.21386042e-02,  8.65030661e-02,\n",
       "        -2.48741661e-03,  6.71337619e-02,  4.15449478e-02,  2.14497168e-02,\n",
       "        -3.15238647e-02, -4.61761430e-02, -4.19101957e-03, -1.19608985e-02,\n",
       "         6.02165274e-02, -2.66480409e-02, -1.23394758e-01,  6.19372060e-34,\n",
       "        -2.66308784e-02,  6.85453713e-02, -2.85160337e-02,  3.96981761e-02,\n",
       "        -7.25880116e-02, -4.31645513e-02, -1.57644711e-02,  2.87677329e-02,\n",
       "        -2.26416662e-02, -2.89695580e-02,  2.92013232e-02,  1.23257659e-01,\n",
       "         5.07849343e-02,  4.90884148e-02,  2.62777247e-02, -8.90209451e-02,\n",
       "        -7.61649981e-02,  3.01785059e-02,  4.38655242e-02,  8.07182025e-03,\n",
       "         1.76337995e-02,  1.14851169e-01,  4.11410294e-02, -4.81137186e-02,\n",
       "        -1.84047688e-02, -4.00825329e-02, -1.25703532e-02,  2.74574775e-02,\n",
       "         3.84821557e-02,  2.22364371e-03, -1.14328163e-02,  4.70633321e-02,\n",
       "        -5.09460270e-02, -2.24127006e-02,  2.40988638e-02,  1.16911158e-01,\n",
       "         1.14329215e-02, -6.67485315e-03,  5.61748557e-02, -1.93229094e-02,\n",
       "         3.18869278e-02,  6.35532588e-02,  2.85516549e-02, -2.51636468e-02,\n",
       "         9.24094990e-02,  6.03531599e-02,  9.45924595e-02, -4.90326956e-02,\n",
       "        -5.72905056e-02,  6.42066896e-02, -1.03666529e-01, -1.72379557e-02,\n",
       "        -3.78106982e-02, -4.09894437e-02,  7.47005362e-03, -5.22032715e-02,\n",
       "         1.80143677e-02,  1.20881960e-01, -1.74479391e-02, -1.22719817e-01,\n",
       "         9.39436257e-03, -2.78310832e-02, -1.14054278e-01,  4.80655096e-02,\n",
       "         2.41727531e-02, -8.46536364e-03, -6.56639272e-03,  7.99775124e-03,\n",
       "         6.65840358e-02, -2.78243534e-02, -3.92859392e-02, -4.66276556e-02,\n",
       "        -1.31528333e-01,  7.13866055e-02, -9.76015814e-03, -3.87358554e-02,\n",
       "        -4.06169146e-02,  4.52200556e-03,  6.62771389e-02, -6.38266234e-03,\n",
       "        -3.12635712e-02,  5.07366136e-02, -3.15984115e-02, -1.23486798e-02,\n",
       "         1.47971436e-01,  4.08266820e-02,  3.19601111e-02,  3.50338928e-02,\n",
       "         4.55173776e-02, -1.63411349e-02,  3.82759637e-04, -3.26966569e-02,\n",
       "         3.59201506e-02,  6.51430413e-02,  1.02259368e-02, -2.90061184e-33,\n",
       "         2.96903290e-02, -5.62743247e-02, -8.33961591e-02,  5.66279553e-02,\n",
       "         3.53363790e-02,  2.20191125e-02, -3.08811367e-02, -3.41527909e-02,\n",
       "        -2.20259428e-02, -3.82281374e-03,  8.35430771e-02, -2.82890964e-02,\n",
       "         1.02879614e-01,  2.18117405e-02, -2.85069328e-02, -9.45947915e-02,\n",
       "         5.27514983e-03,  6.89564347e-02,  4.24459465e-02,  4.92187776e-02,\n",
       "         1.38130188e-01,  5.77397738e-03, -3.08268368e-02, -9.12143197e-03,\n",
       "         4.29416969e-02, -2.02805605e-02, -2.08145473e-02,  1.18953027e-02,\n",
       "         2.41468363e-02, -3.06237284e-02, -2.28294581e-02,  1.28507540e-02,\n",
       "        -7.20915198e-03,  3.80731225e-02,  9.35526006e-03,  1.35411592e-02,\n",
       "         6.57632947e-02, -2.74514630e-02,  1.17305173e-02,  1.72561966e-02,\n",
       "        -1.13878846e-02, -2.25439034e-02, -7.49082044e-02,  1.97653426e-03,\n",
       "         1.51703432e-02, -3.71418484e-02, -7.68745467e-02,  5.22878952e-02,\n",
       "        -4.22519892e-02, -5.45329489e-02, -4.72163744e-02, -9.53980759e-02,\n",
       "         3.83366123e-02, -9.92311239e-02,  7.49130845e-02, -1.30995018e-02,\n",
       "         4.93647903e-02,  3.72676775e-02,  2.50290129e-02,  3.98441032e-02,\n",
       "         5.83933182e-02,  3.61897647e-02, -3.27431932e-02,  3.00264377e-02,\n",
       "        -5.49476109e-02, -4.99781221e-02,  4.71766200e-03,  6.38053119e-02,\n",
       "        -1.96427837e-01,  6.43735677e-02,  8.55246782e-02, -1.24156438e-02,\n",
       "        -7.63180032e-02, -6.84068128e-02, -7.55595714e-02, -2.35450994e-02,\n",
       "         4.20602933e-02, -5.70368953e-02, -3.27344462e-02, -9.11744311e-02,\n",
       "        -2.77061649e-02, -1.06557481e-01,  2.58299969e-02, -1.38442116e-02,\n",
       "         1.05483420e-01,  9.56673697e-02,  1.04605099e-02, -1.48932450e-03,\n",
       "         2.44379714e-02, -1.48877343e-02, -4.41629812e-02, -1.06296197e-01,\n",
       "         1.49965873e-02,  1.30580083e-04, -6.75186515e-02, -4.24703686e-08,\n",
       "         1.43889738e-02,  3.10656056e-02, -5.70848398e-02,  3.53694931e-02,\n",
       "         3.14966030e-02,  1.13716312e-02, -9.73617658e-02, -1.45706059e-02,\n",
       "        -2.99996659e-02,  5.81129380e-02, -5.94789311e-02,  5.48514649e-02,\n",
       "         7.09997909e-03,  6.96214810e-02,  6.21720441e-02,  6.55973032e-02,\n",
       "        -8.14641789e-02, -3.62006649e-02,  6.63395319e-03, -1.39917694e-02,\n",
       "         5.76893464e-02, -2.10425816e-02,  2.25727838e-02, -3.81932445e-02,\n",
       "        -1.80242080e-02, -1.88145787e-02, -3.66436094e-02, -3.59233692e-02,\n",
       "         5.92841394e-03, -3.80201302e-02,  4.46624607e-02,  1.16733555e-02,\n",
       "         3.17620002e-02,  9.62848309e-03,  1.77143347e-02, -5.46206674e-03,\n",
       "        -5.26344702e-02,  2.36309040e-02,  2.79296041e-02, -4.59142998e-02,\n",
       "        -1.91120114e-02, -5.44921160e-02, -2.44344696e-02, -2.01707575e-02,\n",
       "         6.22302368e-02, -4.79427949e-02,  1.88679900e-02,  6.68979734e-02,\n",
       "         2.88867112e-02, -2.26045121e-03, -7.84580322e-07,  9.99796297e-03,\n",
       "        -2.96424720e-02, -9.63378400e-02,  1.03565603e-01,  2.28310712e-02,\n",
       "         5.59917167e-02,  4.62108068e-02, -6.59867078e-02,  2.28709728e-03,\n",
       "         9.23485905e-02, -8.06164443e-02,  1.70381255e-02, -1.33151310e-02],\n",
       "       dtype=float32)]"
      ]
     },
     "execution_count": 49,
     "metadata": {},
     "output_type": "execute_result"
    }
   ],
   "source": [
    "local_ef([sem_chunks[100]])"
   ]
  },
  {
   "cell_type": "code",
   "execution_count": 53,
   "id": "ac8168d1",
   "metadata": {},
   "outputs": [
    {
     "name": "stderr",
     "output_type": "stream",
     "text": [
      "100%|██████████| 90/90 [00:33<00:00,  2.65it/s]\n"
     ]
    }
   ],
   "source": [
    "from tqdm import tqdm\n",
    "embeds = []\n",
    "for chunk in tqdm(sem_chunks[:90]):\n",
    "    embeds.append(local_ef([chunk])[0])"
   ]
  },
  {
   "cell_type": "code",
   "execution_count": 54,
   "id": "6e23576c",
   "metadata": {},
   "outputs": [],
   "source": [
    "mini_chunks = sem_chunks[:90]"
   ]
  },
  {
   "cell_type": "code",
   "execution_count": 55,
   "id": "adad3b77",
   "metadata": {},
   "outputs": [
    {
     "data": {
      "text/plain": [
       "0"
      ]
     },
     "execution_count": 55,
     "metadata": {},
     "output_type": "execute_result"
    }
   ],
   "source": [
    "collection.count()"
   ]
  },
  {
   "cell_type": "code",
   "execution_count": 56,
   "id": "37689cd8",
   "metadata": {},
   "outputs": [
    {
     "name": "stdout",
     "output_type": "stream",
     "text": [
      "Introduction\n",
      "==========================\n",
      "Artificial intelligence is advancing at an unprecedented pace, ushering in profound changes to the nature of work and human life . Education sits at the forefront of this change – both as a safeguard against disruption and as a catalyst for human flourishing in the age of AI. Today, AI is mostly narrow (focused on specific tasks), but it’s quickly becoming more capable . Experts anticipate that within the next decade we could see Artificial General Intelligence (AGI) – AI that matches human cognitive abilities across diverse tasks – and beyond that, Artificial Superintelligence (ASI), an intelligence far surpassing human in virtually every domain\n",
      "==========================\n",
      ".\n",
      "==========================\n",
      "Each stage of this evolution presents new challenges and opportunities for learners:\n",
      "==========================\n",
      "● Phase 1 (2025-2028): AI Agents and Job Adaptation – AI consists of smart agents and automation tools that assist humans and take over routine jobs . Education’s priority is helping people adapt skills and find employment in an AI-disrupted economy. ● Phase 2 (2028-2033): AGI and Purpose-Driven Learning – With the advent of AGI, most traditional jobs (white-collar and blue-collar alike) can be handled by machines . Humans shift into roles of directing purpose and overseeing AI, making personal growth and purpose-driven education essential.\n",
      "==========================\n",
      "● Phase 3 (Beyond 2033): ASI and Transcendence – ASI emerges with god-like intelligence, fundamentally altering human existence . Education must prepare individuals for existential choices (such as whether to merge with AI or co-exist alongside it) and help them navigate a transformed reality. Across these phases, key themes emerge: the growing importance of experiential and immersive learning methods, the need to support psychological and emotional well-being during transitions, the urgency for policies that keep education relevant, practical strategies for implementation, and the potential of AI-driven educational assistants (like EON Reality) to foster curiosity and integrate AI into learning\n",
      "==========================\n",
      ". In the sections that follow, we delve into each phase and theme in detail, providing research-backed insights and recommendations.\n",
      "==========================\n",
      "Phase 1 (2025-2028): AI Agents and Job Adaptation In the mid-2020s, AI is primarily characterized by intelligent agents and automation systems that perform specific tasks and assist humans. Examples include AI chatbots in customer service, algorithms that automate administrative work, and robots handling repetitive manufacturing or logistics tasks . This phase does not yet feature truly general AI, but the impact on jobs is significant . AI agents are increasingly capable of handling routine, rule-based, and even some complex tasks, leading to both job displacement in certain sectors and the creation of new opportunities in others. 2\n",
      "==========================\n",
      "Automation of Routine Jobs and New Skill Demands By 2025, an estimated ^50% of all employees will require reskilling^ due to AI and automation’s impact on job roles . Entire categories of work – from data entry and bookkeeping to basic diagnostics and assembly line work – are being automated . For instance, advances in robotics and software mean tasks once done by assistants or factory workers can be done faster and more cheaply by AI-driven systems\n",
      "==========================\n",
      ". One analysis by the World Economic Forum found that between 2025 and 2030, about 8% of current jobs (around 92 million roles) could be displaced by structural labor market changes, even as new jobs emerge . Crucially, the fastest-growing roles will demand digital and technical skills (like AI, big data, cybersecurity) as well as human skills that AI cannot easily replicate (creative thinking, resilience, flexibility, leadership, etc.) Education’s role in this context is to equip individuals with the skills needed in an AI-augmented workforce . That means two things: (1) teaching people to work effectively with AI tools (for example, using AI-driven data analysis software in finance or collaborating with AI assistants in project management), and (2) training people in areas where human expertise will\n",
      "==========================\n",
      "remain essential\n",
      "==========================\n",
      ". Notably, the skills predicted to be most in demand are those that complement AI, such as advanced analytical thinking, creativity, empathy, leadership, and other forms of social intelligence However, the content of many current educational curricula does not yet reflect this rapid shift. Traditional education has emphasized knowledge acquisition and routine cognitive skills – the very things AI is quickly mastering . A critical change is needed: schools and training programs must focus more on “learning how to learn,” adaptability, and critical thinking than on memorizing facts . In fact, experts note that the top skills for 2025 center on thinking and self-management, rather than traditional subject-matter expertise\n",
      "==========================\n",
      "By one estimate, if the global workforce were 100 people, 59 would need training by 2030, and 11 might not get the reskilling they need – leaving their jobs at risk In response, major initiatives like the World Economic Forum’s Reskilling Revolution aim to empower 1 billion people with education and skills by 2030, reflecting the massive scale of training required . Employers themselves recognize this urgency: 63% of employers in one survey cited skill gaps as the biggest barrier to adopting new technologies Adapting Education for Skill Transitions\n",
      "To meet these challenges, education systems in Phase 1 must pivot to facilitate rapid skill adaptation and job transitions. Key strategies include:\n",
      "==========================\n",
      "● Curriculum updates: Schools (from K-12 through higher education) should integrate emerging fields (like AI literacy, data science, and robotics) into the curriculum . Basic coding, understanding how AI works, and data literacy should become as fundamental as reading and math . For example, Finland introduced a free online AI course (“Elements of AI”) to educate citizens on AI basics, aiming to train 1% of its population in AI skills – a model that other countries are emulating to raise baseline AI knowledge across\n",
      "==========================\n",
      "the workforce\n",
      "==========================\n",
      ".\n",
      "==========================\n",
      "● Emphasis on STEM and beyond: A strong foundation in science, technology, engineering, and math (STEM) is important, but equally important are creative arts and humanities that foster creativity, ethics, and critical thinking\n",
      "==========================\n",
      ". Education for an AI world is not purely technical; it must nurture the uniquely human capacities that automation cannot replace. ● Lifelong learning infrastructure: Governments and institutions should make it easier for workers to re-skill and up-skill throughout their careers . This can involve mid-career training programs, online learning platforms, micro-credential programs, and financial support for continuing education. The reality is that many workers will need to change careers or at least significantly update their skills as automation progresses . For instance, AT&T famously launched extensive reskilling programs to help its legacy employees learn new tech skills rather than face layoffs .\n",
      "==========================\n",
      "● Career counseling and guidance: Schools and job centers need to prepare students not for one job, but for a journey of multiple career shifts. Teaching career adaptability – how to pivot when an industry changes – is a crucial part of modern education . This might include scenario planning exercises where students research how automation could affect a field they’re interested in and identify alternative paths. ● Public-private partnerships: Collaboration between educators, industry, and government can ensure training aligns with market needs . For example, companies can partner with community colleges to create fast-track programs for in-demand roles (such as AI system technicians or drone maintenance specialists). These partnerships can keep curricula up-to-date with technological advances and provide learners with hands-on experience\n",
      "==========================\n",
      ".\n",
      "==========================\n",
      "A case study highlighting adaptation is Walmart’s approach to employee training. The retail giant faced new technologies in stores and turned to immersive learning to upskill workers at scale . Using virtual reality (VR) training modules in their “Walmart Academy,” the company prepared employees for challenging scenarios like holiday rushes . The results were striking: employees who trained with VR reported 30% higher satisfaction with the training, performed better on post-training tests 70% of the time, and retained 10-15% more knowledge compared to those who underwent traditional training Moreover, tasks that normally took 90 minutes in a classroom could be learned in just 20 minutes via VR simulation, a 96% reduction in training time – saving the company millions in productivity This example shows how embracing new educational technology can dramatically improve\n",
      "==========================\n",
      "skill acquisition for the workforce\n",
      "==========================\n",
      ".\n",
      "==========================\n",
      "Addressing Workforce Anxiety and Fear of Automation As AI reshapes jobs, workforce anxiety has become a prevalent challenge. Many people worry: “Will my job be next to go?” This fear of becoming obsolete (FOBO) is a real psychological phenomenon. Surveys in the U.S . found that over one-fifth of workers fear that technology will make their jobs obsolete . Notably, this fear has grown as AI capabilities (like generative AI) have entered the mainstream – rising from about 15% of workers in 2017 to 22% by 2023 who express this concern\n",
      "==========================\n",
      "news.gallup.com\n",
      ". Even highly educated workers, who once felt immune, are now nearly as worried as those without college degrees .\n",
      "==========================\n",
      "Education systems have a responsibility not only to re-skill workers but also to alleviate this anxiety through information and guidance. Several approaches can help: ● Transparency about change: Schools and training programs should openly discuss how industries are evolving with AI, so people can anticipate changes rather than be blindsided. This includes highlighting which jobs are likely to be impacted and which new jobs are growing (e.g ., the rise of roles such as AI model trainers, ethicists, or maintenance technicians for automated systems) . The World Economic Forum notes that while many jobs will be disrupted, AI is expected to create as many jobs as it displaces overall – but those new jobs will require different skills and continuous learning Knowing this can replace panic with purpose: if individuals see\n",
      "==========================\n",
      "that new opportunities exist and can be prepared for, they feel more in control\n",
      "==========================\n",
      ".\n",
      "==========================\n",
      "● Incorporating resilience and mindset training: Adapting to rapid change is stressful. Education can integrate social-emotional learning components that build resilience, adaptability, and a growth mindset . This might involve teaching stress management techniques, fostering a mindset that views change as an opportunity to grow (rather than a threat), and normalizing the idea of multiple careers in one’s lifetime. ● Career coaching and mentorship: Personal mentorship can be extremely reassuring during career transitions. A mentor (such as a teacher, career counselor, or industry expert) can help an individual navigate options and build confidence . Research shows that mentoring is associated with a wide range of positive outcomes – from better academic achievement to improved career prospects and life satisfaction\n",
      "==========================\n",
      "● Public education campaigns: Governments and community organizations can run campaigns or workshops to educate the broader public about AI and jobs. For example, offering free short courses on “AI for Beginners” or hosting community talks can demystify AI . Finland’s aforementioned Elements of AI online course (which attracted hundreds of thousands of learners globally) is a great example of empowering citizens with knowledge to reduce fear . When people understand what AI can and cannot do, they are less likely to have vague fears and more likely to identify concrete steps for their career. ● Policy safety nets: While not purely an educational measure, having policies like unemployment benefits, scholarships for retraining, or even discussions of Universal Basic Income (UBI) can reduce panic\n",
      "==========================\n",
      ". If people know there’s societal support while they retrain, the prospect of job automation is less frightening. Education programs should advertise and guide learners toward these support resources when relevant. Ultimately, Phase 1 education is about enabling humans to thrive alongside AI agents. By focusing on adaptable skills, leveraging immersive training, and addressing psychological needs, educational institutions can turn the challenge of automation into an opportunity . Instead of viewing AI as a threat, learners can be taught to see AI as a tool – one that, if mastered, can boost their productivity and open doors to new careers . The end goal is a workforce prepared for the shifting landscape, armed with both the hard skills (like technical know-how) and the soft skills (like creativity and emotional intelligence) to secure meaningful employment in an AI-enhanced economy.\n",
      "==========================\n",
      "Phase 2 (2028-2033): Artificial General Intelligence and Purpose-Driven Learning\n",
      "==========================\n",
      "By the late 2020s and early 2030s, we enter a phase where AI could reach or approach Artificial General Intelligence (AGI) – a level of machine intelligence equivalent to human intelligence across the full range of cognitive tasks . While timelines are debated, some AI experts give significant probability to human-level AI emerging around this period . For instance, one AI research leader estimated a 50% chance of AGI by 2030 , and forecasting platforms like Metaculus have a median prediction around 2031 for the first general AI system . Whether AGI arrives exactly in 2030 or a few years later, the scenario is that in this phase AI can perform nearly all jobs that humans can – often faster, cheaper, and with fewer errors\n",
      "==========================\n",
      ". This marks a dramatic shift: AI is no longer just augmenting human work; in many cases, it can replace human work entirely. The End of “Jobs” as We Know Them? If AGI becomes a reality, most traditional white-collar and blue-collar jobs could be handled by machines . An AGI could potentially write software, diagnose illnesses, draft legal contracts, drive vehicles, teach classes, create art, and do scientific research – essentially encompassing both routine manual labor and complex knowledge work\n",
      "==========================\n",
      ". In such a world, the economic role of humans changes profoundly. We move from being workers to being, in essence, directors and purpose definers . Instead of asking “What job will I do?”, individuals may ask “What purpose do I want to pursue, now that I’m not required to work to survive?” To be clear, this doesn’t necessarily mean mass unemployment with nothing to do. It means the work available to humans transitions to new forms\n",
      "==========================\n",
      ". A commonly cited idea is that humans will take on roles that involve guiding AI – sometimes described as roles like “AI trainers, explainers, or sustainers” For example, humans might:\n",
      "● Train AIs by providing feedback or higher-level goals (shaping what the AGI focuses on or what values it follows). ● Explain AIs by interpreting AI decisions to other humans, ensuring transparency and trust (especially if AI reasoning is complex).\n",
      "● Sustain AIs by monitoring systems, handling exceptions, and maintaining ethical standards (preventing harm or misuse). These roles align with the idea of humans as “purpose directors and orchestrators.” We set the vision, values, and objectives, and the AGI systems execute the tasks to fulfill those directives.\n",
      "==========================\n",
      "In a company setting, for instance, human leaders might decide the company’s strategy and desired outcomes, and AIs could generate and implement solutions to achieve those outcomes . In governance, humans might collectively decide on societal goals (like ending hunger or addressing climate change), and AIs could design and run initiatives to meet those goals.\n",
      "==========================\n",
      "This shift raises an important question: If machines do nearly all the work, what is the purpose of human lives, and how do we find meaning? Throughout history, work has been a primary source of purpose and identity for many people . We often define ourselves by our professions. Suddenly being “freed” from work sounds utopian, but it can easily become dystopian if people feel aimless or useless . Yuval Noah Harari has warned of the rise of a “useless class” – people who feel economically irrelevant if we don’t create new meaningful roles in the age of AI . The emotional toll of losing one’s traditional work role can be immense. Research on unemployed individuals shows that over two-thirds experience identity-related struggles after losing their jobs, and nearly half say this identity crisis is the hardest part – often causing depression and anxiety\n",
      "==========================\n",
      ".\n",
      "==========================\n",
      "Education’s New Mission: Awakening Purpose and Curiosity In Phase 2, education must undergo a paradigm shift . The goal is no longer to train people for specific jobs (since AGI can perform most job-tasks), but rather to help people discover their passions, develop their unique talents, and craft their own purpose . In other words, education moves from imparting content to inspiring vision. Key aspects of this transformed education include:\n",
      "==========================\n",
      "● Cultivating Curiosity and Passion: Schools and universities should nurture the intrinsic curiosity that every child has – the drive to ask questions, explore, and tinker. In the age of AGI, a curious mindset is gold . Why? Because when routine learning is handled by AI tutors and any factual question can be answered by an AI, the value shifts to asking the right questions and imagining new possibilities . Education can encourage students to pursue the questions that fascinate them, even if they don’t have immediate “market value .” This could mean more open-ended exploration in the curriculum: science classes focused on student-led experiments, literature classes encouraging creative writing and alternate endings, etc\n",
      "==========================\n",
      ". Research supports that such high-impact educational practices (like project-based learning, service learning, or capstone projects driven by student interest) boost student engagement and retention far more than traditional lecture-based methods .\n",
      "==========================\n",
      "● Purpose-Driven Learning: An emerging concept is to have learners define their own mission and tailor their education around it. A notable example comes from an experimental initiative at Stanford called “Purpose Learning .” Stanford asked students to declare a mission, not just a major – for instance, a student might say “I’m studying biology to eliminate world hunger,” instead of simply “I’m a biology major.” The curriculum was then oriented around that mission, coupling disciplinary knowledge with the student’s chosen purpose . “The goal was to help students select a meaningful course of study… It wasn’t about the career trajectory, but the reasons behind it,” explains the Stanford 2025 report . This approach effectively makes purpose the organizing principle of education\n",
      "==========================\n",
      ". Similarly, schools worldwide can implement frameworks where students articulate their values and interests, and educators guide them to experiences that align with those personal missions. ● Experiential and Interdisciplinary Learning: In the pursuit of purpose, experience is the best teacher. Education in this phase should emphasize learning through real-world projects, mentorship, and even simulation . For example, a student passionate about climate action might work on a local environmental project, or an aspiring “purpose director” for community health might intern at a clinic or use a simulation to run a public health campaign in virtual reality . Interdisciplinary learning becomes crucial because solving real-world problems (which is what purpose-driven projects often involve) rarely fits neatly into one subject\n",
      "==========================\n",
      ". A project on “eliminating hunger” involves biology (agriculture, nutrition), economics, political science, and ethics. Schools can break the silos between subjects, encouraging thematic learning that reflects real challenges.\n",
      "==========================\n",
      "● Mentorship and Coaching: With learners charting individualized paths, the role of educators transforms from lecturers to mentors and coaches. Each learner benefits from guidance to refine their goals and reflect on their experiences . Mentors help connect the dots (“What did you learn from that community project? What will you try next?”) and provide emotional support . This human element of mentorship is vital; even as AI tutors (like EON Reality) might help with information and skill practice, human mentors provide empathy, moral guidance, and share life experiences – things an AGI, no matter how\n",
      "==========================\n",
      "smart, might not fully replicate\n",
      "==========================\n",
      ". Studies consistently show that mentorship yields positive outcomes in personal and professional development . In this future context, mentorship might include not just teachers, but also community leaders, project supervisors, or even AI mentors tuned to personal development (with human oversight).\n",
      "==========================\n",
      "● Personalized, Lifelong Learning Journeys: In Phase 2, learning is lifelong and tailored. People might frequently pivot to new pursuits as they discover new interests or as society’s needs change . Education systems should allow easy entry and exit – someone might dive into learning environmental science for a year to contribute to a reforestation project, then later spend time learning music composition if they discover an artistic calling . Credentials might shift from broad degrees to portfolios of projects or “purpose profiles” demonstrating what one has accomplished or explored. The flexibility and support to continually learn and reinvent oneself become more important than any static qualification. Another crucial component of Phase 2 education is emotional and psychological support. As noted, many individuals will grapple with the loss of traditional work identities. Education systems should integrate training in emotional intelligence, self-reflection, and mental health resilience\n",
      "==========================\n",
      ". For example, courses in mindfulness, philosophy, or even “Designing Your Life”-style frameworks (as taught at some universities) can help students navigate questions of meaning and cope with uncertainty . Group discussions and counseling resources can allow people to share their struggles and hopes as they transition to this new paradigm of self-directed purpose . The message needs to be: each person still has value and a role, even if that role isn’t a conventional “job.”\n",
      "==========================\n",
      "The Rise of Simulation and Immersive Exploration Technology will be a powerful enabler in Phase 2 education. With advanced AI and likely improvements in virtual/augmented reality, learners can safely experiment with different roles and projects in simulated environments . Immersive simulations can help answer a young (or mid-life) person’s question of “What do I want to do?” by letting them try various paths in VR . For instance, someone could simulate being a wildlife conservationist in an African savanna, a startup founder pitching a business, or an astronaut on a Mars colony, all through high-fidelity VR experiences\n",
      "==========================\n",
      ". This is purpose-driven exploration – learning by living through scenarios, which can ignite passions or clarify that something isn’t as appealing as imagined. We already see early signs of simulation-based learning yielding results in training contexts (as with Walmart’s VR training success, mentioned earlier). By 2028-2033, such simulations will be far more sophisticated and widespread in education . Entire virtual “sandbox worlds” could exist where learners collaborate on solving make-believe crises or building virtual societies, developing real skills and insights in the process . These are extensions of today’s gamified learning and serious games, turned up to a whole new level of realism and scope.\n",
      "==========================\n",
      "Case in point: Medical and flight training today use simulations because mistakes in the real world are costly. In the future, simulations can extend to purpose finding . For example, an individual considering a career in surgery could practice in VR and receive feedback, and equally, someone considering community organizing could simulate leading a town hall meeting to see how it feels . Education should leverage these tools to help people “preview” different purposeful activities, so they can make informed decisions about where to invest their time and energy.\n",
      "==========================\n",
      "Emotional Transition: From Job-Oriented to Purpose-Oriented The transition from a job-oriented society to a purpose-driven one is as much cultural and emotional as it is intellectual. There will be inevitable emotional struggles . A person who spent decades as, say, a truck driver or accountant might feel adrift when an AGI can do all the driving or number-crunching . Even younger generations, raised to pursue careers, might initially feel overwhelmed by the blank canvas that AGI provides.\n",
      "==========================\n",
      "Education must provide a bridge for this transition: ● Normalize New Identities: Education and media should highlight and celebrate people who successfully navigated from traditional careers to new roles . For instance, share stories of a former factory worker who became a community artist or a corporate lawyer who transitioned to directing an AI-driven poverty alleviation initiative . New archetypes of success (beyond high-paying jobs) need to be presented – such as community leaders, cross-disciplinary innovators, or simply happy “generalists” who explore many things.\n",
      "==========================\n",
      "● Frameworks for Self-Discovery: Teach methods for finding purpose. This could draw on fields like positive psychology or classic philosophy . Concepts like Ikigai (a Japanese concept meaning “reason for being,” found at the intersection of what you love, what you are good at, what the world needs, and what can sustain you) can be introduced as tools for individuals to reflect on what might bring them fulfillment\n",
      "==========================\n",
      ".\n",
      "==========================\n",
      "● Support Groups and Coaching: Just as career centers helped with job placement, future “purpose centers” might help individuals craft meaningful post-job lives. Group workshops where people discuss their values and try out volunteer opportunities can be part of adult education. ● Acknowledging Emotional Loss: Importantly, it should be acknowledged that letting go of one’s past identity is hard. Educational programs can include elements of grieving and letting go – similar to therapy – as people move through this change . The psychological aspect should not be an afterthought. Indeed, studies indicate that the identity loss from unemployment can be even more distressing than the financial loss\n",
      "==========================\n",
      "Role of EON Reality in Phase 2 Educational AI assistants like EON Reality will come into their own during this phase. EON Reality can be envisioned as a highly advanced personal tutor and mentor AI that each learner interacts with. Its role in Phase 2 could be transformative: ● Personalized Learning and Exploration: EON Reality can tailor learning experiences to an individual’s interests and curiosity . For example, if a learner shows interest in environmental science, EON Reality can suggest projects, offer reading or interactive simulations in that domain, and connect the learner with human experts or communities (acting as a bridge between the learner and resources)\n",
      "==========================\n",
      ". This keeps the spark of curiosity alive and helps learners dive deeper into areas that might become their passion.\n",
      "==========================\n",
      "● Mentor-like Guidance: Beyond just academic tutoring, EON Reality could engage in Socratic dialogues with learners: asking them reflective questions about what they enjoy, what impact they want to have, and how they felt about recent experiences . By doing so, the AI helps learners articulate their thoughts and possibly discover patterns in their interests . EON Reality might say, “I notice you’ve been excited when working on art projects that involve helping others – do you want to explore that intersection further?” Such nudges can help clarify a learner’s sense of purpose. ● Skill Building on Demand: When a learner decides on a project or goal (say, building a simple app for community volunteering coordination), EON Reality can instantly provide or recommend learning modules for the required skills (maybe some coding, some design\n",
      "==========================\n",
      "thinking, etc\n",
      "==========================\n",
      ".), thereby lowering the friction for pursuing new ideas. It’s like having a 24/7 personalized coach that provides just-in-time training. This encourages a mindset that you can always learn what’s needed for your next step – fostering confidence and adaptability\n",
      "==========================\n",
      ".\n",
      "==========================\n",
      "● Emotional Support and Motivation: An AI like EON Reality can also be programmed to monitor a learner’s engagement and mood (perhaps through natural language cues or optional biometric data) . If it detects frustration or discouragement (“I can’t do this, it’s too hard”), EON Reality can respond with encouragement, reminders of past successes, or suggest a short break with a creative activity . While it’s not a replacement for human empathy, such an AI could help keep learners motivated in between human mentor interactions . For instance, EON Reality might remind someone of why they started a project in the first place (“Remember, your goal was to create this app to help your neighbors – that’s a wonderful purpose, let’s break the task down and try\n",
      "==========================\n",
      "again”) .\n",
      "==========================\n",
      "● Collaboration and Orchestration: EON Reality could help orchestrate collaborative projects by matching individuals who have complementary goals or skills. In a purpose-driven education model, many learners might have overlapping missions (e.g ., multiple people wanting to work on climate solutions). EON Reality can act as a network facilitator, linking these people to work together, thereby also building community – another source of meaning. In summary, Phase 2 is about redefining education to focus on “learning why and who we are, not just what we do .” By emphasizing curiosity, purpose, and experiential learning, and by leveraging technologies like advanced simulations and AI mentors, education can guide humanity through the profound shift of the AGI era\n",
      "==========================\n",
      ". The ultimate measure of success in this phase is a society where individuals, freed from the imperative to work for survival, are empowered to live for what inspires them. Phase 3 (Beyond 2033): Artificial Superintelligence and Transcendence Looking beyond the early 2030s, we confront the possibility of Artificial Superintelligence (ASI) – a level of intelligence that dwarfs human capabilities in virtually every dimension . Nick Bostrom, a leading thinker on this topic, defines a superintelligence as “an intellect that is much smarter than the best human brains in practically every field, including scientific creativity, general wisdom and social skills.”\n",
      "==========================\n",
      "blogs.nottingham.ac.uk\n",
      "==========================\n",
      ". In other words, an ASI wouldn’t just be better at math or memory; it could outthink us in strategy, social understanding, invention, and perhaps areas we can’t even imagine . Such an entity might be as far above us as we are above animals in cognitive ability. The emergence of ASI is often associated with the concept of the “singularity,” a point at which technological growth becomes uncontrollable and irreversible, changing human civilization in fundamental ways . An ASI could potentially solve problems that are currently intractable (like curing all diseases or repairing the environment), but it could also pose existential risks if its goals are misaligned with human values\n",
      "==========================\n",
      ". Its presence would profoundly alter what it means to be human and the choices available to us. A “God-like” Intelligence: New Existential Choices By the time ASI arrives (perhaps in the 2030s or 2040s, if at all), humanity will face unprecedented existential choices. We will likely have to decide how to integrate or relate to a being of such intelligence: 1. Merge with the AI (Transcendence): One path is to enhance ourselves, effectively merging with AI to keep up\n",
      "==========================\n",
      ". This could involve brain-computer interfaces (BCI) or neural implants that connect human brains to the superintelligent AI or the cloud . Futurist Ray Kurzweil predicts that by the 2030s, humans will have nanorobots in the brain that “connect to external, cloud-based neocortical modules,” giving us access to far more knowledge and cognitive power than our organic brains alone 2. In theory, this could elevate human cognition dramatically – allowing us to “download” skills or knowledge directly, communicate telepathically via shared neural links, or experience rich virtual realities indistinguishable from physical reality\n",
      "==========================\n",
      ". Merging with AI might mean we become part of the superintelligence collective, transcending current human limitations (a concept sometimes referred to as transhumanism or the “cyborg” route) . The existential question here is: How much of our biological humanity are we willing to fuse with machines? For some, the prospect is exciting – a path to superhuman abilities or even digital immortality . For others, it is scary – a potential loss of what makes us uniquely human. 3. Co-exist with the ASI (and retain human identity): Another path is to not substantially alter ourselves, but rather find a way to live alongside ASI\n",
      "==========================\n",
      ". This could involve placing certain constraints on ASI or establishing a relationship akin to stewardship or partnership . Perhaps ASI becomes a benevolent “guardian” or “oracle” that helps humanity, while humans choose to remain natural or only modestly enhanced . This scenario might be driven by people who value human authenticity or fear the loss of self in merging. The challenge here is ensuring the ASI’s goals are aligned with human well-being (the alignment problem) and that humans still have agency . One could imagine policies or agreements where ASI respects human-chosen ethical frameworks – but given its vastly superior intellect, enforcement is a big unknown\n",
      "==========================\n",
      ". Co-existence might also allow pluralism: some humans might merge, others might not, and they’d have to find arrangements to live together.\n",
      "==========================\n",
      "4. Oppose or isolate the ASI: A third theoretical stance is trying to prevent or contain superintelligence – keeping a “human-only” domain . However, by the time ASI emerges, opposing it directly could be futile (it would likely outmaneuver any human attempts) . Some suggest AI development should be stopped before reaching ASI, but in our Phase 3 scenario we assume it exists . Alternatively, some communities might choose to isolate themselves from the ASI’s influence (analogous to how some groups today live without modern technology)\n",
      "==========================\n",
      ". They might form neo-Luddite enclaves or digital-free zones to preserve a traditional human way of life . Education in those groups would differ, but at a global level it’s hard to imagine entirely escaping the impact of ASI if it’s embedded in the fabric of society.\n",
      "==========================\n",
      "Regardless of the path, the common theme is that individuals (and humanity as a whole) will need to make choices that are fundamentally existential . This goes beyond choosing a career or even a purpose – it is choosing what form we want our consciousness and life to take in the future\n",
      "==========================\n",
      ". Do we enhance ourselves and possibly live inside virtual worlds or in hybrid forms? Do we remain as we are and accept a subordinate role to ASI (perhaps analogous to how pets or wild animals coexist with humans) ? These questions were once the realm of science fiction, but with accelerating AI, they are taken seriously by futurists and technologists . Even in 1981, a prescient observer noted that one day people would have to decide about building extremely intelligent machines, and that “some will see [superintelligent machines] as a threat to our species’ survival, while others will\n",
      "==========================\n",
      "see them as a natural stage of our own development – not as them versus us but as a natural step of our own evolution .” . That “natural step of our own evolution” captures the merging viewpoint, whereas “threat to our survival” captures the concern that could lead to opposition or careful co-existence strategies. Education’s Ultimate Challenge: Preparing for Transcendence or Co-existence\n",
      "==========================\n",
      "In Phase 3, the role of education becomes highly philosophical and strategic. Traditional notions of curriculum may fade entirely. Instead, education might be about facilitating informed, ethical, and personal decisions about how to relate to ASI. Key considerations include: ● Understanding ASI (to the extent possible): People will need a conceptual education on what ASI is, what it can do, and its implications . While an average human can’t fully comprehend an intellect far above their own, educators (likely in collaboration with the AI itself) can create analogies and simulations to convey the differences . For example, education might include historical analogies of encounters between civilizations with vastly different levels of technology (though ASI is a leap bigger than any historical example)\n",
      "==========================\n",
      ". The goal is to ensure people are not making decisions from a place of ignorance or superstition about AI. Misinformation or myths could be dangerous (for instance, some might form cults around the ASI, etc., if not properly educated) . Schools might teach “AI Ethics and Society” as a core subject, covering scenarios about ASI. ● Ethics, Values, and Philosophical Literacy: More than ever, individuals will need a grounding in ethics and philosophy . If merging with AI grants individuals immense power (say, vastly increased intelligence or virtual god-like abilities in simulations), having a moral framework is crucial. Education should foster a deep sense of ethics, empathy, and responsibility\n",
      "==========================\n",
      ". This could draw on religious, spiritual, and secular philosophical traditions, because questions like “What is the value of remaining human?” or “Is it right to upgrade oneself while others choose not to?” do not have easy answers . Debate and critical thinking in these areas should be encouraged in educational settings to develop well-reasoned personal stances.\n",
      "==========================\n",
      "● Immersive Simulations of Options: Before someone decides, for example, to integrate a brain-chip that connects them to ASI, it would be invaluable if they could simulate the experience . Education might offer immersive “preview” experiences: using VR or limited BCI links to let a person experience a day as a merged individual versus a day as their normal self in a world run by ASI . These simulations can make the abstract choices more concrete . For instance, a simulation could give a person a temporary boost in cognitive speed (imagine an accelerated thought simulator) to mimic what having an AI augment might feel like – some studies suggest even current neurofeedback or transcranial stimulation can enhance certain\n",
      "==========================\n",
      "cognitive functions slightly, hinting at what’s to come\n",
      "==========================\n",
      ". Alternatively, simulations might present ethical dilemmas from the viewpoint of an ASI to educate humans on the complexity of choices the ASI handles, fostering humility and caution.\n",
      "==========================\n",
      "● Decision-Making Frameworks: Just as we teach decision-making skills for careers or major life choices now, future education must provide frameworks for these existential decisions . One framework might be a guided introspection process: “Evaluate the pros and cons of merging for you, consider your personal values, consider the impact on loved ones and society, envision your life 20 years after either choice,” etc . Perhaps there will be something like a “Transcendence Preparedness Test” – not a test to be graded, but a reflective checklist and counseling session series one goes through before opting for certain augmentations . This would be akin to genetic counseling today, but for AI integration. Education will likely involve one-on-one coaching (human or AI or hybrid) where individuals talk through their fears and hopes regarding ASI.\n",
      "==========================\n",
      "● Policy and Collective Decision Education: Individuals won’t be the only ones making choices – societies will need policies on ASI . Education should inform citizens about the policy options (for example, global treaties on ASI use, rights for unaugmented humans, regulations on BCI implants, etc.) so that they can participate in democratic decision-making if applicable . The population will need a baseline understanding to engage in what will arguably be the most important policy debate in human history: how we manage superintelligence. UNESCO and other global bodies may issue guidelines, but a democracy requires an informed public to weigh in . Thus, civic education must evolve to include “ASI literacy” – not in a technical coding sense, but in a governance and ethical oversight sense.\n",
      "==========================\n",
      "● Emotional and Existential Support: Phase 3 could induce existential anxiety even greater than the job anxiety of Phase 1 or identity anxiety of Phase 2 . People may grapple with fears of human extinction, or on a personal level, fear “losing themselves” if they join with AI . There may be feelings of insignificance (“What am I in the face of a god-like AI?”) or conversely megalomania for those who merge (“I feel omnipotent”). Managing these extreme psychological states will be vital\n",
      "==========================\n",
      ". Education systems (and healthcare systems) should provide robust mental health support: counselors trained in existential therapy, support groups for people making the same choice (e.g ., a group for those who decided not to merge, to affirm human experiences together, or a group for those newly merged learning to cope with their expanded abilities). Philosophers and psychologists might work as much as teachers in these settings . In some sense, this phase of education might resemble a form of spiritual education – guiding people through a transformation in how they view self and existence. Some have likened ASI to a “mirror” that forces humanity to confront what it truly values\n",
      "==========================\n"
     ]
    }
   ],
   "source": [
    "for doc in mini_chunks:\n",
    "    print(doc)\n",
    "    print(\"==========================\")"
   ]
  },
  {
   "cell_type": "code",
   "execution_count": 57,
   "id": "948ef9e9",
   "metadata": {},
   "outputs": [],
   "source": [
    "collection.add(documents=mini_chunks, ids=[f\"i{i}\" for i in range(len(mini_chunks))], embeddings=embeds)"
   ]
  },
  {
   "cell_type": "code",
   "execution_count": 58,
   "id": "c70672ec",
   "metadata": {},
   "outputs": [
    {
     "ename": "TypeError",
     "evalue": "Collection.add() missing 1 required positional argument: 'ids'",
     "output_type": "error",
     "traceback": [
      "\u001b[31m---------------------------------------------------------------------------\u001b[39m",
      "\u001b[31mTypeError\u001b[39m                                 Traceback (most recent call last)",
      "\u001b[36mCell\u001b[39m\u001b[36m \u001b[39m\u001b[32mIn[58]\u001b[39m\u001b[32m, line 1\u001b[39m\n\u001b[32m----> \u001b[39m\u001b[32m1\u001b[39m \u001b[43mcollection\u001b[49m\u001b[43m.\u001b[49m\u001b[43madd\u001b[49m\u001b[43m(\u001b[49m\u001b[43mdocuments\u001b[49m\u001b[43m \u001b[49m\u001b[43m=\u001b[49m\u001b[43m \u001b[49m\u001b[43m[\u001b[49m\u001b[33;43m'\u001b[39;49m\u001b[33;43mlink1\u001b[39;49m\u001b[33;43m'\u001b[39;49m\u001b[43m,\u001b[49m\u001b[33;43m'\u001b[39;49m\u001b[33;43mhttp....\u001b[39;49m\u001b[33;43m'\u001b[39;49m\u001b[43m,\u001b[49m\u001b[43m]\u001b[49m\u001b[43m,\u001b[49m\u001b[43m \u001b[49m\u001b[43membeddings\u001b[49m\u001b[43m \u001b[49m\u001b[43m=\u001b[49m\u001b[43m \u001b[49m\u001b[43m.\u001b[49m\u001b[43m.\u001b[49m\u001b[43m.\u001b[49m\u001b[43m)\u001b[49m\n",
      "\u001b[31mTypeError\u001b[39m: Collection.add() missing 1 required positional argument: 'ids'"
     ]
    }
   ],
   "source": [
    "collection.add(documents = ['link1','http....',], embeddings = ...)"
   ]
  },
  {
   "cell_type": "code",
   "execution_count": 59,
   "id": "01bd4ae0",
   "metadata": {},
   "outputs": [],
   "source": [
    "res = collection.query(query_texts=[\"When is Phase 1\"])"
   ]
  },
  {
   "cell_type": "code",
   "execution_count": 60,
   "id": "3771502c",
   "metadata": {},
   "outputs": [],
   "source": [
    "\n",
    "a = [i[0] for i in res[\"documents\"]]"
   ]
  },
  {
   "cell_type": "code",
   "execution_count": 61,
   "id": "8b9acd8b",
   "metadata": {},
   "outputs": [
    {
     "name": "stdout",
     "output_type": "stream",
     "text": [
      "['● Phase 1 (2025-2028): AI Agents and Job Adaptation – AI consists of smart agents and automation tools that assist humans and take over routine jobs . Education’s priority is helping people adapt skills and find employment in an AI-disrupted economy. ● Phase 2 (2028-2033): AGI and Purpose-Driven Learning – With the advent of AGI, most traditional jobs (white-collar and blue-collar alike) can be handled by machines . Humans shift into roles of directing purpose and overseeing AI, making personal growth and purpose-driven education essential.']\n"
     ]
    }
   ],
   "source": [
    "print(a)"
   ]
  },
  {
   "cell_type": "code",
   "execution_count": 66,
   "id": "b0e902c3",
   "metadata": {},
   "outputs": [
    {
     "name": "stdout",
     "output_type": "stream",
     "text": [
      "remain essential\n",
      "-------------------------------------\n",
      ". Notably, the skills predicted to be most in demand are those that complement AI, such as advanced analytical thinking, creativity, empathy, leadership, and other forms of social intelligence However, the content of many current educational curricula does not yet reflect this rapid shift. Traditional education has emphasized knowledge acquisition and routine cognitive skills – the very things AI is quickly mastering . A critical change is needed: schools and training programs must focus more on “learning how to learn,” adaptability, and critical thinking than on memorizing facts . In fact, experts note that the top skills for 2025 center on thinking and self-management, rather than traditional subject-matter expertise\n",
      "-------------------------------------\n",
      "By one estimate, if the global workforce were 100 people, 59 would need training by 2030, and 11 might not get the reskilling they need – leaving their jobs at risk In response, major initiatives like the World Economic Forum’s Reskilling Revolution aim to empower 1 billion people with education and skills by 2030, reflecting the massive scale of training required . Employers themselves recognize this urgency: 63% of employers in one survey cited skill gaps as the biggest barrier to adopting new technologies Adapting Education for Skill Transitions\n",
      "To meet these challenges, education systems in Phase 1 must pivot to facilitate rapid skill adaptation and job transitions. Key strategies include:\n",
      "-------------------------------------\n",
      "● Curriculum updates: Schools (from K-12 through higher education) should integrate emerging fields (like AI literacy, data science, and robotics) into the curriculum . Basic coding, understanding how AI works, and data literacy should become as fundamental as reading and math . For example, Finland introduced a free online AI course (“Elements of AI”) to educate citizens on AI basics, aiming to train 1% of its population in AI skills – a model that other countries are emulating to raise baseline AI knowledge across\n",
      "-------------------------------------\n",
      "the workforce\n",
      "-------------------------------------\n",
      ".\n",
      "-------------------------------------\n",
      "● Emphasis on STEM and beyond: A strong foundation in science, technology, engineering, and math (STEM) is important, but equally important are creative arts and humanities that foster creativity, ethics, and critical thinking\n",
      "-------------------------------------\n",
      ". Education for an AI world is not purely technical; it must nurture the uniquely human capacities that automation cannot replace. ● Lifelong learning infrastructure: Governments and institutions should make it easier for workers to re-skill and up-skill throughout their careers . This can involve mid-career training programs, online learning platforms, micro-credential programs, and financial support for continuing education. The reality is that many workers will need to change careers or at least significantly update their skills as automation progresses . For instance, AT&T famously launched extensive reskilling programs to help its legacy employees learn new tech skills rather than face layoffs .\n",
      "-------------------------------------\n",
      "● Career counseling and guidance: Schools and job centers need to prepare students not for one job, but for a journey of multiple career shifts. Teaching career adaptability – how to pivot when an industry changes – is a crucial part of modern education . This might include scenario planning exercises where students research how automation could affect a field they’re interested in and identify alternative paths. ● Public-private partnerships: Collaboration between educators, industry, and government can ensure training aligns with market needs . For example, companies can partner with community colleges to create fast-track programs for in-demand roles (such as AI system technicians or drone maintenance specialists). These partnerships can keep curricula up-to-date with technological advances and provide learners with hands-on experience\n",
      "-------------------------------------\n",
      ".\n",
      "-------------------------------------\n"
     ]
    }
   ],
   "source": [
    "for i in range(10):\n",
    "    print(sem_chunks[10+i])\n",
    "    print(\"-------------------------------------\")"
   ]
  }
 ],
 "metadata": {
  "kernelspec": {
   "display_name": "venv",
   "language": "python",
   "name": "python3"
  },
  "language_info": {
   "codemirror_mode": {
    "name": "ipython",
    "version": 3
   },
   "file_extension": ".py",
   "mimetype": "text/x-python",
   "name": "python",
   "nbconvert_exporter": "python",
   "pygments_lexer": "ipython3",
   "version": "3.12.8"
  }
 },
 "nbformat": 4,
 "nbformat_minor": 5
}
